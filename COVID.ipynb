{
    "metadata": {
        "kernelspec": {
            "name": "SQL",
            "display_name": "SQL",
            "language": "sql"
        },
        "language_info": {
            "name": "sql",
            "version": ""
        }
    },
    "nbformat_minor": 2,
    "nbformat": 4,
    "cells": [
        {
            "cell_type": "markdown",
            "source": [
                "# **_Covid 19 Data Exploration._**\n",
                "\n",
                "_((Skills used: Joins, CTE's, Temp Tables, Windows Functions, Aggregate Functions, Creating Views, Converting Data Types))_"
            ],
            "metadata": {
                "azdata_cell_guid": "6b507e3d-7a1c-4816-a42a-08a4f3cfdf43"
            },
            "attachments": {}
        },
        {
            "cell_type": "markdown",
            "source": [
                "**_Selecting a sample of Data that we are going to be starting with._**"
            ],
            "metadata": {
                "azdata_cell_guid": "20d50b16-96a1-47d7-8762-5ff123f2e12f"
            },
            "attachments": {}
        },
        {
            "cell_type": "code",
            "source": [
                "SELECT top 5 Location, date, total_cases, new_cases, total_deaths, population\r\n",
                "From protofolioproject..CovidDeaths$\r\n",
                "Where continent is not null and total_deaths is not NULL\r\n",
                ""
            ],
            "metadata": {
                "azdata_cell_guid": "19334fda-4d2f-4064-bb78-858a26d73d90",
                "language": "sql",
                "tags": []
            },
            "outputs": [],
            "execution_count": null
        },
        {
            "cell_type": "markdown",
            "source": [
                "## **Total Cases vs Total Deaths**  \n",
                "\n",
                "- **Shows likelihood of dying if you contract covid in your country**"
            ],
            "metadata": {
                "azdata_cell_guid": "12690fb5-3e21-45a9-b394-e1980416cedd"
            },
            "attachments": {}
        },
        {
            "cell_type": "code",
            "source": [
                "select location, date, total_cases, total_deaths, (total_deaths/total_cases)*100 as Death_Percentage\r\n",
                "from protofolioproject..CovidDeaths$\r\n",
                "where location like '%states%'\r\n",
                "order by 1,2"
            ],
            "metadata": {
                "azdata_cell_guid": "e1443323-d0df-416b-aeda-d74a24edd5a6",
                "language": "sql",
                "tags": [
                    "hide_input"
                ]
            },
            "outputs": [],
            "execution_count": null
        },
        {
            "cell_type": "markdown",
            "source": [
                "## **_Total Cases vs Population_**\n",
                "\n",
                "### \n",
                "\n",
                "- _**Shows what percentage of population infected with Covid**_"
            ],
            "metadata": {
                "azdata_cell_guid": "77fe1c22-4557-4d63-967e-077f8bde7cf4"
            },
            "attachments": {}
        },
        {
            "cell_type": "code",
            "source": [
                "select location, date,total_cases, population,(total_cases/population)*100 as infection_rate\r\n",
                "from protofolioproject..CovidDeaths$\r\n",
                "where location like '%states%'\r\n",
                "order by 1,2,3"
            ],
            "metadata": {
                "azdata_cell_guid": "a7794db5-31ec-45c9-b21e-e9daf9c40d7a",
                "language": "sql",
                "tags": [
                    "hide_input"
                ]
            },
            "outputs": [],
            "execution_count": null
        },
        {
            "cell_type": "markdown",
            "source": [
                "### \n",
                "\n",
                "- **_Countries with Highest Infection Rate compared to Population_**"
            ],
            "metadata": {
                "azdata_cell_guid": "32230b3e-3334-4105-8d75-4f02342ba4f4"
            },
            "attachments": {}
        },
        {
            "cell_type": "code",
            "source": [
                "Select Location, Population, MAX(total_cases) as HighestInfectionCount,  Max((total_cases/population))*100 as PercentPopulationInfected\r\n",
                "from protofolioproject..CovidDeaths$\r\n",
                "Group by Location, Population\r\n",
                "order by PercentPopulationInfected desc\r\n",
                ""
            ],
            "metadata": {
                "azdata_cell_guid": "0b71f90e-ed86-44cf-868b-a256495f539d",
                "language": "sql",
                "tags": []
            },
            "outputs": [],
            "execution_count": null
        },
        {
            "cell_type": "markdown",
            "source": [
                "- **_Countries with Highest Death Count per Population_**"
            ],
            "metadata": {
                "azdata_cell_guid": "73eecb0c-e83c-4f9a-9019-a08938bf4814"
            },
            "attachments": {}
        },
        {
            "cell_type": "code",
            "source": [
                "Select Location, MAX(cast(Total_deaths as int)) as TotalDeathCount\r\n",
                "from protofolioproject..CovidDeaths$\r\n",
                "Where continent is not null \r\n",
                "Group by Location\r\n",
                "order by TotalDeathCount desc"
            ],
            "metadata": {
                "azdata_cell_guid": "32e601c0-29f4-43bd-a175-535ded867f68",
                "language": "sql"
            },
            "outputs": [],
            "execution_count": null
        },
        {
            "cell_type": "markdown",
            "source": [
                "## **_BREAKING THINGS DOWN BY CONTINENT!!!_**\n",
                "\n",
                "### \n",
                "\n",
                "- **_Showing contintents with the highest death count per population_**"
            ],
            "metadata": {
                "azdata_cell_guid": "84b59ef9-a8a1-4beb-bf23-7eb8a5ceda75"
            },
            "attachments": {}
        },
        {
            "cell_type": "code",
            "source": [
                "Select continent, MAX(cast(Total_deaths as int)) as TotalDeathCount\r\n",
                "from protofolioproject..CovidDeaths$\r\n",
                "Where continent is not null \r\n",
                "Group by continent\r\n",
                "order by TotalDeathCount desc"
            ],
            "metadata": {
                "azdata_cell_guid": "a24c7a81-ac42-4647-85fc-0da94cf67375",
                "language": "sql",
                "tags": []
            },
            "outputs": [],
            "execution_count": null
        },
        {
            "cell_type": "markdown",
            "source": [
                "## **_Global Numbers._**"
            ],
            "metadata": {
                "azdata_cell_guid": "578861e7-e1b6-4382-b91a-56bb96b2e422"
            },
            "attachments": {}
        },
        {
            "cell_type": "code",
            "source": [
                "Select SUM(new_cases) as total_cases, SUM(cast(new_deaths as int)) as total_deaths, SUM(cast(new_deaths as int))/SUM(New_Cases)*100 as DeathPercentage\r\n",
                "from protofolioproject..CovidDeaths$\r\n",
                "where continent is not null \r\n",
                ""
            ],
            "metadata": {
                "azdata_cell_guid": "2ed02592-8ac0-4fbc-b5be-ec27c960e4bb",
                "language": "sql"
            },
            "outputs": [],
            "execution_count": null
        },
        {
            "cell_type": "markdown",
            "source": [
                "## **_Total Population vs Vaccinations_**\n",
                "\n",
                "- **_sample of the data from joining two tables first._**"
            ],
            "metadata": {
                "azdata_cell_guid": "80794378-643a-4d2d-8db9-7a79f832453e"
            },
            "attachments": {}
        },
        {
            "cell_type": "code",
            "source": [
                "SELECT top 5 *\r\n",
                "from protofolioproject..CovidDeaths$    dea\r\n",
                "JOIN protofolioproject..CovidVaccinations$      vac\r\n",
                "on  dea.[location]= vac.[location]\r\n",
                "and dea.[date]= vac.date"
            ],
            "metadata": {
                "azdata_cell_guid": "9758a588-174c-43ea-a4f9-a8167bac070d",
                "language": "sql",
                "tags": []
            },
            "outputs": [],
            "execution_count": null
        },
        {
            "cell_type": "markdown",
            "source": [
                "- **_Shows Percentage of Population that has recieved at least one Covid Vaccine_**\n",
                "\n",
                "    - **_we need to sum all the new\\_vaccib=nation per location as it is not in the table below_**"
            ],
            "metadata": {
                "azdata_cell_guid": "99b3f3d3-84de-4628-95e4-3d16bb6a58d9"
            },
            "attachments": {}
        },
        {
            "cell_type": "code",
            "source": [
                "SELECT top 10 dea.continent, DEA.location, dea.[date], dea.population,  vac.new_vaccinations\r\n",
                "FROM  protofolioproject..CovidDeaths$ dea\r\n",
                "join protofolioproject..CovidVaccinations$ vac \r\n",
                "on dea.[location]=vac.[location]\r\n",
                "and dea.[date]=vac.[date]\r\n",
                "WHERE dea.continent is not NULL\r\n",
                "order by 5 DESC\r\n",
                ""
            ],
            "metadata": {
                "azdata_cell_guid": "399d8e56-a2e4-40dd-9a72-d8eb8827ef62",
                "language": "sql",
                "tags": []
            },
            "outputs": [],
            "execution_count": null
        },
        {
            "cell_type": "markdown",
            "source": [
                "- **Total cumulative vaccinated**"
            ],
            "metadata": {
                "azdata_cell_guid": "34f132d4-ed62-4ac7-a8c7-a3649c9fdf40"
            },
            "attachments": {}
        },
        {
            "cell_type": "code",
            "source": [
                "SELECT dea.continent, DEA.location, dea.[date], dea.population,  vac.new_vaccinations, SUM (cast (vac.new_vaccinations   as int)) \r\n",
                "    OVER  ( partition by  dea.location order by dea.location , dea.date) as cumulative_vac\r\n",
                "FROM  protofolioproject..CovidDeaths$ dea\r\n",
                "join protofolioproject..CovidVaccinations$ vac \r\n",
                "on dea.[location]=vac.[location]\r\n",
                "and dea.[date]=vac.[date]\r\n",
                "WHERE dea.continent is not NULL\r\n",
                "order by 2,3\r\n",
                ""
            ],
            "metadata": {
                "azdata_cell_guid": "760ad37a-1038-4d57-9bb1-baffdc3fe969",
                "language": "sql"
            },
            "outputs": [],
            "execution_count": null
        },
        {
            "cell_type": "markdown",
            "source": [
                "- **_Using CTE to perform Calculation on Partition By in previous query_**"
            ],
            "metadata": {
                "azdata_cell_guid": "afb119f6-3533-4824-a150-6066e8da384e"
            },
            "attachments": {}
        },
        {
            "cell_type": "code",
            "source": [
                "With PopvsVac (Continent, Location, Date, Population, New_Vaccinations, cumulative_vac)\r\n",
                "as\r\n",
                "(\r\n",
                "Select dea.continent, dea.location, dea.date, dea.population, vac.new_vaccinations\r\n",
                ", SUM(CONVERT(int,vac.new_vaccinations)) OVER (Partition by dea.Location Order by dea.location, dea.Date) as cumulative_vac\r\n",
                "FROM  protofolioproject..CovidDeaths$ dea\r\n",
                "join protofolioproject..CovidVaccinations$ vac \r\n",
                "\tOn dea.location = vac.location\r\n",
                "\tand dea.date = vac.date\r\n",
                "where dea.continent is not null \r\n",
                ")\r\n",
                "Select *, (cumulative_vac/Population)*100\r\n",
                "From PopvsVac"
            ],
            "metadata": {
                "azdata_cell_guid": "646b8fa3-b16a-429a-89b4-3ae66d4092b2",
                "language": "sql"
            },
            "outputs": [],
            "execution_count": null
        },
        {
            "cell_type": "markdown",
            "source": [
                "- _**Using Temp Table to perform Calculation on Partition By in previous query**_"
            ],
            "metadata": {
                "azdata_cell_guid": "38388715-8d9c-4bf7-948b-26853e9bc126"
            },
            "attachments": {}
        },
        {
            "cell_type": "code",
            "source": [
                "DROP Table if exists #PercentPopulationVaccinated\r\n",
                "Create Table #PercentPopulationVaccinated\r\n",
                "(\r\n",
                "Continent nvarchar(255),\r\n",
                "Location nvarchar(255),\r\n",
                "Date datetime,\r\n",
                "Population numeric,\r\n",
                "New_vaccinations numeric,\r\n",
                "cumulative_vac int\r\n",
                ")\r\n",
                "\r\n",
                "Insert into #PercentPopulationVaccinated\r\n",
                "Select dea.continent, dea.location, dea.date, dea.population, vac.new_vaccinations\r\n",
                ", SUM(CONVERT(int,vac.new_vaccinations)) OVER (Partition by dea.Location Order by dea.location, dea.Date) as cumulative_vac\r\n",
                "--, (RollingPeopleVaccinated/population)*100\r\n",
                "FROM  protofolioproject..CovidDeaths$ dea\r\n",
                "join protofolioproject..CovidVaccinations$ vac \r\n",
                "\tOn dea.location = vac.location\r\n",
                "\tand dea.date = vac.date\r\n",
                "--where dea.continent is not null \r\n",
                "--order by 2,3\r\n",
                "\r\n",
                "Select * ,( cumulative_vac /Population)*100 as per_vac\r\n",
                "From #PercentPopulationVaccinated"
            ],
            "metadata": {
                "azdata_cell_guid": "9108ac73-9811-4887-ba51-3f89acaa2df5",
                "language": "sql"
            },
            "outputs": [],
            "execution_count": null
        },
        {
            "cell_type": "markdown",
            "source": [
                "###  **_<u>Creating View to store data for later visualizations</u>_**"
            ],
            "metadata": {
                "azdata_cell_guid": "5575fe2c-8f40-445c-bea2-d547f38a611b"
            },
            "attachments": {}
        },
        {
            "cell_type": "code",
            "source": [
                "Create View PercentPopulationVaccinated as\r\n",
                "Select dea.continent, dea.location, dea.date, dea.population, vac.new_vaccinations\r\n",
                ", SUM(CONVERT(int,vac.new_vaccinations)) OVER (Partition by dea.Location Order by dea.location, dea.Date) as RollingPeopleVaccinated\r\n",
                "--, (RollingPeopleVaccinated/population)*100\r\n",
                "FROM  protofolioproject..CovidDeaths$ dea\r\n",
                "join protofolioproject..CovidVaccinations$ vac \r\n",
                "\tOn dea.location = vac.location\r\n",
                "\tand dea.date = vac.date\r\n",
                "where dea.continent is not null "
            ],
            "metadata": {
                "azdata_cell_guid": "c2f6cbe3-a0b0-4268-970c-253c84323adb",
                "language": "sql",
                "tags": [
                    "hide_input"
                ]
            },
            "outputs": [
                {
                    "output_type": "error",
                    "evalue": "Msg 2714, Level 16, State 3, Procedure PercentPopulationVaccinated, Line 1\r\nThere is already an object named 'PercentPopulationVaccinated' in the database.",
                    "ename": "",
                    "traceback": []
                },
                {
                    "output_type": "display_data",
                    "data": {
                        "text/html": "Total execution time: 00:00:00.005"
                    },
                    "metadata": {}
                }
            ],
            "execution_count": 3
        }
    ]
}